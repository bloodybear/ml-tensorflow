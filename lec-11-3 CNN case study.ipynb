{
 "cells": [
  {
   "cell_type": "markdown",
   "metadata": {},
   "source": [
    "FC\n",
    "* Fully Connected NN\n",
    "\n",
    "LeNet-5 (LeCun, 1998)\n",
    "* input 32x32 \n",
    "* Conv1 : filter 6@5x5, stride 1 -> 6@28x28\n",
    "* Pool1 : 6@14x14\n",
    "* Conv2 : 16@:10x10 -> Pool2 : 16@5x5 -> Conv3 : 120 -> FC\n",
    "\n",
    "AlexNet (Krizhevsky, 2012)\n",
    "* ImageNet/ILSVRC 1등\n",
    "* input 227x227\n",
    "* Conv1 : 96@11x11, stride 4 -> 96@55x55\n",
    "* pool1 : 3x3, stride 2 -> 96@27x27\n",
    "* -> ... -> ... -> FC\n",
    "* ReLU 처음 사용\n",
    "* Norm Layer 사용 (이제 잘 안씀)\n",
    "* Dropout : 0.5\n",
    "* batch size : 128\n",
    "* 7 CNN ensemble : 18.2 -> 15.4\n",
    "\n",
    "GoogLeNet (2014)\n",
    "* Inception module\n",
    "* 6.7%\n",
    "\n",
    "ResNet (2015)\n",
    "* 3.6%\n",
    "* Human Error 5% 보다 낮아짐\n",
    "* 152 Layers (AlexNet 은 8 Layer) -> Fast Forward 로 극복\n",
    "\n",
    "CNN for Sentence Classification (Yoon Kim, 2014)\n",
    "\n",
    "DeepMind (AlphaGo)"
   ]
  }
 ],
 "metadata": {
  "kernelspec": {
   "display_name": "Python 3",
   "language": "python",
   "name": "python3"
  },
  "language_info": {
   "codemirror_mode": {
    "name": "ipython",
    "version": 3
   },
   "file_extension": ".py",
   "mimetype": "text/x-python",
   "name": "python",
   "nbconvert_exporter": "python",
   "pygments_lexer": "ipython3",
   "version": "3.6.4"
  }
 },
 "nbformat": 4,
 "nbformat_minor": 2
}
