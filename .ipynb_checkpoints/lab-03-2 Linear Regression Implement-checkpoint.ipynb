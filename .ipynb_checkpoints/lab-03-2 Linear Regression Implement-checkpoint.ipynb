{
 "cells": [
  {
   "cell_type": "code",
   "execution_count": 1,
   "metadata": {},
   "outputs": [
    {
     "name": "stdout",
     "output_type": "stream",
     "text": [
      "0 0.071743526 [0.87600964]\n",
      "1 0.020407036 [0.9338718]\n",
      "2 0.0058046733 [0.96473163]\n",
      "3 0.0016511059 [0.9811902]\n",
      "4 0.00046964557 [0.9899681]\n",
      "5 0.00013358922 [0.99464965]\n",
      "6 3.799918e-05 [0.9971465]\n",
      "7 1.08088125e-05 [0.9984781]\n",
      "8 3.074829e-06 [0.9991883]\n",
      "9 8.745274e-07 [0.9995671]\n",
      "10 2.4887558e-07 [0.9997691]\n",
      "11 7.079585e-08 [0.99987686]\n",
      "12 2.011835e-08 [0.9999343]\n",
      "13 5.732204e-09 [0.99996495]\n",
      "14 1.6391226e-09 [0.9999813]\n",
      "15 4.6119553e-10 [0.99999005]\n",
      "16 1.3195844e-10 [0.9999947]\n",
      "17 3.629097e-11 [0.9999972]\n",
      "18 1.05409015e-11 [0.9999985]\n",
      "19 2.8954616e-12 [0.9999992]\n",
      "20 7.6383344e-13 [0.9999996]\n",
      "[0.9999996 1.9999992 2.9999988]\n"
     ]
    }
   ],
   "source": [
    "import tensorflow as tf\n",
    "\n",
    "x_data = [1, 2, 3];\n",
    "y_data = [1, 2, 3];\n",
    "\n",
    "W = tf.Variable(tf.random_normal([1]), name='weight')\n",
    "X = tf.placeholder(tf.float32)\n",
    "Y = tf.placeholder(tf.float32)\n",
    "\n",
    "hypothesis = X * W\n",
    "\n",
    "cost = tf.reduce_mean(tf.square(hypothesis - Y))\n",
    "\n",
    "# tf.train.GradientDescentOptimizer(learning_rate=0.1)\n",
    "# 이거를 직접 구현하면...\n",
    "learning_rate = 0.1\n",
    "gradient = tf.reduce_mean((W * X - Y) * X)\n",
    "descent = W - learning_rate * gradient\n",
    "update = W.assign(descent)\n",
    "\n",
    "sess = tf.Session()\n",
    "sess.run(tf.global_variables_initializer())\n",
    "\n",
    "for step in range(21):\n",
    "    sess.run(update, feed_dict={X:x_data, Y:y_data})\n",
    "    print(step, sess.run(cost, feed_dict={X:x_data, Y:y_data}), sess.run(W))\n",
    "    \n",
    "print(sess.run(hypothesis, feed_dict={X:x_data}))"
   ]
  },
  {
   "cell_type": "code",
   "execution_count": null,
   "metadata": {},
   "outputs": [],
   "source": []
  }
 ],
 "metadata": {
  "kernelspec": {
   "display_name": "Python 3",
   "language": "python",
   "name": "python3"
  },
  "language_info": {
   "codemirror_mode": {
    "name": "ipython",
    "version": 3
   },
   "file_extension": ".py",
   "mimetype": "text/x-python",
   "name": "python",
   "nbconvert_exporter": "python",
   "pygments_lexer": "ipython3",
   "version": "3.6.4"
  }
 },
 "nbformat": 4,
 "nbformat_minor": 2
}
