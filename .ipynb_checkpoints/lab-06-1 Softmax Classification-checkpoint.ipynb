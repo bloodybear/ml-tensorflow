{
 "cells": [
  {
   "cell_type": "code",
   "execution_count": 4,
   "metadata": {},
   "outputs": [
    {
     "name": "stdout",
     "output_type": "stream",
     "text": [
      "0 2.9558532\n",
      "200 0.569752\n",
      "400 0.4631549\n",
      "600 0.36684197\n",
      "800 0.2774321\n",
      "1000 0.23821837\n",
      "1200 0.21547921\n",
      "1400 0.19663781\n",
      "1600 0.18075007\n",
      "1800 0.16716942\n",
      "2000 0.15542987\n",
      "[[5.5916365e-03 9.9440247e-01 5.9306230e-06]\n",
      " [8.5680366e-01 1.3727736e-01 5.9189484e-03]\n",
      " [9.1905035e-09 2.9608211e-04 9.9970382e-01]] [1 0 2]\n"
     ]
    }
   ],
   "source": [
    "import tensorflow as tf\n",
    "\n",
    "x_data = [[1, 2, 1, 1],\n",
    "          [2, 1, 3, 2],\n",
    "          [3, 1, 3, 4],\n",
    "          [4, 1, 5, 5],\n",
    "          [1, 7, 5, 5],\n",
    "          [1, 2, 5, 6],\n",
    "          [1, 6, 6, 6],\n",
    "          [1, 7, 7, 7]]\n",
    "y_data = [[0, 0, 1],\n",
    "          [0, 0, 1],\n",
    "          [0, 0, 1],\n",
    "          [0, 1, 0],\n",
    "          [0, 1, 0],\n",
    "          [0, 1, 0],\n",
    "          [1, 0, 0],\n",
    "          [1, 0, 0]]\n",
    "\n",
    "X = tf.placeholder(tf.float32, [None, 4])\n",
    "Y = tf.placeholder(tf.float32, [None, 3])\n",
    "\n",
    "W = tf.Variable(tf.random_normal([4, 3]), name='weight')\n",
    "b = tf.Variable(tf.random_normal([3]), name='bias')\n",
    "\n",
    "hypothesis = tf.nn.softmax(tf.matmul(X, W) + b)\n",
    "cost = tf.reduce_mean(-tf.reduce_sum(Y * tf.log(hypothesis), axis=1))\n",
    "\n",
    "optimizer = tf.train.GradientDescentOptimizer(learning_rate=0.1).minimize(cost)\n",
    "\n",
    "with tf.Session() as sess:\n",
    "    sess.run(tf.global_variables_initializer())\n",
    "    \n",
    "    for step in range(2001):\n",
    "        sess.run(optimizer, feed_dict={X:x_data, Y:y_data})\n",
    "        if step % 200 == 0:\n",
    "            print(step, sess.run(cost, feed_dict={X:x_data, Y:y_data}))\n",
    "    \n",
    "    test = sess.run(hypothesis, feed_dict={X: [[1, 11, 7, 9], [1, 3, 4, 3], [1, 1, 0, 1]]})\n",
    "    print(test, sess.run(tf.argmax(test, 1)))"
   ]
  },
  {
   "cell_type": "code",
   "execution_count": 5,
   "metadata": {},
   "outputs": [
    {
     "name": "stdout",
     "output_type": "stream",
     "text": [
      "0 4.4215336\n",
      "200 0.6047665\n",
      "400 0.4938988\n",
      "600 0.40109488\n",
      "800 0.30981386\n",
      "1000 0.23525015\n",
      "1200 0.21270354\n",
      "1400 0.19437131\n",
      "1600 0.1788413\n",
      "1800 0.16552696\n",
      "2000 0.15399483\n",
      "--------------\n",
      "[[4.4196146e-03 9.9557096e-01 9.5510868e-06]] [1]\n",
      "--------------\n",
      "[[0.8686968  0.11623553 0.01506776]] [0]\n",
      "--------------\n",
      "[[1.2940143e-08 3.2237780e-04 9.9967766e-01]] [2]\n",
      "--------------\n",
      "[[4.4196141e-03 9.9557096e-01 9.5510868e-06]\n",
      " [8.6869681e-01 1.1623552e-01 1.5067762e-02]\n",
      " [1.2940143e-08 3.2237777e-04 9.9967766e-01]] [1 0 2]\n"
     ]
    },
    {
     "data": {
      "text/plain": [
       "'\\n--------------\\n[[  1.38904958e-03   9.98601854e-01   9.06129117e-06]] [1]\\n--------------\\n[[ 0.93119204  0.06290206  0.0059059 ]] [0]\\n--------------\\n[[  1.27327668e-08   3.34112905e-04   9.99665856e-01]] [2]\\n--------------\\n[[  1.38904958e-03   9.98601854e-01   9.06129117e-06]\\n [  9.31192040e-01   6.29020557e-02   5.90589503e-03]\\n [  1.27327668e-08   3.34112905e-04   9.99665856e-01]] [1 0 2]\\n'"
      ]
     },
     "execution_count": 5,
     "metadata": {},
     "output_type": "execute_result"
    }
   ],
   "source": []
  },
  {
   "cell_type": "code",
   "execution_count": null,
   "metadata": {},
   "outputs": [],
   "source": []
  }
 ],
 "metadata": {
  "kernelspec": {
   "display_name": "Python 3",
   "language": "python",
   "name": "python3"
  },
  "language_info": {
   "codemirror_mode": {
    "name": "ipython",
    "version": 3
   },
   "file_extension": ".py",
   "mimetype": "text/x-python",
   "name": "python",
   "nbconvert_exporter": "python",
   "pygments_lexer": "ipython3",
   "version": "3.6.4"
  }
 },
 "nbformat": 4,
 "nbformat_minor": 2
}
