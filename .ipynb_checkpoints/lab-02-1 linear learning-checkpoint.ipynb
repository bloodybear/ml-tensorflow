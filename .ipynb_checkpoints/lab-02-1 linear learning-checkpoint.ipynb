{
 "cells": [
  {
   "cell_type": "code",
   "execution_count": 3,
   "metadata": {},
   "outputs": [
    {
     "name": "stdout",
     "output_type": "stream",
     "text": [
      "0 29.360584 [-0.13699841] [0.6998493]\n",
      "100 0.0005831417 [1.0156248] [1.0435896]\n",
      "200 0.00029621873 [1.0111362] [1.0597953]\n",
      "300 0.0001504632 [1.0079367] [1.0713458]\n",
      "400 7.64305e-05 [1.0056567] [1.0795773]\n",
      "500 3.8827187e-05 [1.0040317] [1.0854441]\n",
      "600 1.9723684e-05 [1.0028735] [1.0896254]\n",
      "700 1.0019695e-05 [1.0020481] [1.0926056]\n",
      "800 5.0899407e-06 [1.0014597] [1.0947297]\n",
      "900 2.5855409e-06 [1.0010403] [1.0962437]\n",
      "1000 1.3134799e-06 [1.0007416] [1.0973227]\n",
      "1100 6.6750147e-07 [1.0005288] [1.0980914]\n",
      "1200 3.393155e-07 [1.0003769] [1.0986392]\n",
      "1300 1.7251833e-07 [1.0002687] [1.0990297]\n",
      "1400 8.7662656e-08 [1.0001917] [1.0993081]\n",
      "1500 4.4651188e-08 [1.0001367] [1.0995063]\n",
      "1600 2.2720542e-08 [1.0000974] [1.0996476]\n",
      "1700 1.1622433e-08 [1.0000697] [1.0997483]\n",
      "1800 5.9122613e-09 [1.0000497] [1.0998205]\n",
      "1900 2.9981493e-09 [1.0000356] [1.099872]\n",
      "2000 1.5569299e-09 [1.0000254] [1.099908]\n",
      "[6.1000347 3.5999713 2.599946  4.599997 ]\n"
     ]
    }
   ],
   "source": [
    "import tensorflow as tf\n",
    "\n",
    "# x_train = [1, 2, 3]\n",
    "# y_train = [1, 2, 3]\n",
    "\n",
    "X = tf.placeholder(tf.float32, shape=[None])\n",
    "Y = tf.placeholder(tf.float32, shape=[None])\n",
    "\n",
    "W = tf.Variable(tf.random_normal([1]), name='weight')\n",
    "b = tf.Variable(tf.random_normal([1]), name='bias')\n",
    "\n",
    "hypothesis = X * W + b\n",
    "\n",
    "cost = tf.reduce_mean(tf.square(hypothesis - Y))\n",
    "\n",
    "optimizer = tf.train.GradientDescentOptimizer(learning_rate=0.01)\n",
    "train = optimizer.minimize(cost)\n",
    "\n",
    "sess = tf.Session()\n",
    "sess.run(tf.global_variables_initializer())\n",
    "\n",
    "for step in range(2001):\n",
    "    cost_val, W_val, b_val, _ = sess.run([cost, W, b, train], feed_dict={X:[1, 2, 3, 4, 5], Y:[2.1, 3.1, 4.1, 5.1, 6.1]})\n",
    "    if step % 100 == 0:\n",
    "        print(step, cost_val, W_val, b_val)\n",
    "        \n",
    "print(sess.run(hypothesis, feed_dict={X:[5, 2.5, 1.5, 3.5]}))"
   ]
  },
  {
   "cell_type": "code",
   "execution_count": null,
   "metadata": {},
   "outputs": [],
   "source": []
  },
  {
   "cell_type": "code",
   "execution_count": null,
   "metadata": {},
   "outputs": [],
   "source": []
  }
 ],
 "metadata": {
  "kernelspec": {
   "display_name": "Python 3",
   "language": "python",
   "name": "python3"
  },
  "language_info": {
   "codemirror_mode": {
    "name": "ipython",
    "version": 3
   },
   "file_extension": ".py",
   "mimetype": "text/x-python",
   "name": "python",
   "nbconvert_exporter": "python",
   "pygments_lexer": "ipython3",
   "version": "3.6.4"
  }
 },
 "nbformat": 4,
 "nbformat_minor": 2
}
