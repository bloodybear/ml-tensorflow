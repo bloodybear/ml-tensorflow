{
 "cells": [
  {
   "cell_type": "markdown",
   "metadata": {},
   "source": [
    "Activation function\n",
    "* Layer 사이에서 값이 전달될지를 정하는 function\n",
    "\n",
    "Vanishing Gradient\n",
    "* Deep NN 에서 Sigmoid function 의 문제\n",
    "* 항상 output 이 1 보다 작기 때문에 전달이 잘 안됨\n",
    "\n",
    "ReLU\n",
    "* Rectified Linear Unit\n",
    "* max(0, x)\n",
    "\n",
    "Leaky ReLU\n",
    "* max(0.1x, x)"
   ]
  },
  {
   "cell_type": "code",
   "execution_count": null,
   "metadata": {},
   "outputs": [],
   "source": []
  }
 ],
 "metadata": {
  "kernelspec": {
   "display_name": "Python 3",
   "language": "python",
   "name": "python3"
  },
  "language_info": {
   "codemirror_mode": {
    "name": "ipython",
    "version": 3
   },
   "file_extension": ".py",
   "mimetype": "text/x-python",
   "name": "python",
   "nbconvert_exporter": "python",
   "pygments_lexer": "ipython3",
   "version": "3.6.4"
  }
 },
 "nbformat": 4,
 "nbformat_minor": 2
}
