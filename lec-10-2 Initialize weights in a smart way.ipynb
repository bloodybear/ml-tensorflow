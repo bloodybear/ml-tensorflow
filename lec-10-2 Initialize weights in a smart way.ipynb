{
 "cells": [
  {
   "cell_type": "markdown",
   "metadata": {},
   "source": [
    "Code 가 같아도 결과가 다르다?\n",
    "* weight 에 들어가는 random 값에 따라 달라짐\n",
    "* weight 를 0 으로 초기화 시킨다면 gradient 가 사라져 학습 안 됨\n",
    "\n",
    "RBM\n",
    "* Restricted Boltzmahn Machine\n",
    "* weight 초기화하는 방법 중 하나\n",
    "* out 에서 반대로 in 을 계산하여 원래 in 과 비슷해지도록 W 조절\n",
    "* 요즘은 잘 안 씀\n",
    "\n",
    "Xavier/He initialization\n",
    "* 뭔지 모르겠다"
   ]
  },
  {
   "cell_type": "code",
   "execution_count": null,
   "metadata": {},
   "outputs": [],
   "source": []
  }
 ],
 "metadata": {
  "kernelspec": {
   "display_name": "Python 3",
   "language": "python",
   "name": "python3"
  },
  "language_info": {
   "codemirror_mode": {
    "name": "ipython",
    "version": 3
   },
   "file_extension": ".py",
   "mimetype": "text/x-python",
   "name": "python",
   "nbconvert_exporter": "python",
   "pygments_lexer": "ipython3",
   "version": "3.6.4"
  }
 },
 "nbformat": 4,
 "nbformat_minor": 2
}
