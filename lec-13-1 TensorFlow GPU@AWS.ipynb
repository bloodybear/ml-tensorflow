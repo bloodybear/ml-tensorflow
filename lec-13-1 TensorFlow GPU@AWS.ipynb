{
 "cells": [
  {
   "cell_type": "markdown",
   "metadata": {},
   "source": [
    "# Deep Network\n",
    "\n",
    "Takes a long time for training\n",
    "* Many forward/backward propagation and weight updates\n",
    "* 학습하는데 오래걸린다\n",
    "\n",
    "Very quick for testing and use in practice\n",
    "* One simple forward propagation\n",
    "* 학습을 하고 나면 실제로 사용할 때는 굉장히 빠르다\n",
    "\n",
    "# GPU\n",
    "* Graphic Processing Unit\n",
    "* Matrix 계산 병렬로 빠르게 처리 가능\n",
    "* TensorFlow 의 GPU 버전을 따로 배포함\n",
    "* GPU 없으면? -> GPU 지원해주는 Cloud 서비스 활용하자\n",
    "\n",
    "# AWS\n",
    "* g2.2xlarge\n",
    "* g2.8xlarge\n",
    "* region 따라 가격이 다를 수 있음\n",
    "* g2 의 경우 Oregon이 저렴하다는 소문\n",
    "* AWS 강의 : 윤석찬님 강의 추천\n",
    "\n",
    "# CUDA and CuDNN\n",
    "* 정상적으로 다 설치했다면 \"Creating TensorFlow device (/gpu:0) -> ...\"\n",
    "\n",
    "# Spot instances\n",
    "* price bidding\n",
    "\n",
    "# Cloud Watch\n",
    "* 사용하지 않을 때 instance stop 시키도록 설정"
   ]
  },
  {
   "cell_type": "code",
   "execution_count": null,
   "metadata": {},
   "outputs": [],
   "source": []
  }
 ],
 "metadata": {
  "kernelspec": {
   "display_name": "Python 3",
   "language": "python",
   "name": "python3"
  },
  "language_info": {
   "codemirror_mode": {
    "name": "ipython",
    "version": 3
   },
   "file_extension": ".py",
   "mimetype": "text/x-python",
   "name": "python",
   "nbconvert_exporter": "python",
   "pygments_lexer": "ipython3",
   "version": "3.6.4"
  }
 },
 "nbformat": 4,
 "nbformat_minor": 2
}
