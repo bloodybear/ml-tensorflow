{
 "cells": [
  {
   "cell_type": "markdown",
   "metadata": {},
   "source": [
    "How can we learn W1, W2, B1, B2 from training data?\n",
    "* 계산량이 너무 많아서 안됨 ㅠㅜ\n",
    "\n",
    "Backpropagation (chain rule)\n",
    "* $f=wx+b$\n",
    "* $g=wx$\n",
    "* $f=g+b$\n",
    "* $\\frac{\\partial{g}}{\\partial{w}}=x$ \n",
    "* $\\frac{\\partial{g}}{\\partial{x}}=w$ \n",
    "* $\\frac{\\partial{f}}{\\partial{g}}=1$ \n",
    "* $\\frac{\\partial{f}}{\\partial{b}}=1$ \n",
    "* w 가 f 에 미치는 영향 (변화율) : $\\frac{\\partial{f}}{\\partial{w}}=\\frac{\\partial{f}}{\\partial{g}}\\frac{\\partial{g}}{\\partial{w}}=x$ \n",
    "* x 가 f 에 미치는 영향 (변화율) : $\\frac{\\partial{f}}{\\partial{x}}=\\frac{\\partial{f}}{\\partial{g}}\\frac{\\partial{g}}{\\partial{x}}=w$ \n",
    "* b 가 f 에 미치는 영향 (변화율) : $\\frac{\\partial{f}}{\\partial{b}}=1$ \n",
    "\n",
    "NN 에서는??\n",
    "* chain rule 로 하나씩 계산하면 다 구해짐\n",
    "\n",
    "Sigmoid\n",
    "* 뭔소린지 잘 모르겠다...\n",
    "\n",
    "Back propagation in TensorFlow"
   ]
  },
  {
   "cell_type": "code",
   "execution_count": null,
   "metadata": {},
   "outputs": [],
   "source": [
    " "
   ]
  }
 ],
 "metadata": {
  "kernelspec": {
   "display_name": "Python 3",
   "language": "python",
   "name": "python3"
  },
  "language_info": {
   "codemirror_mode": {
    "name": "ipython",
    "version": 3
   },
   "file_extension": ".py",
   "mimetype": "text/x-python",
   "name": "python",
   "nbconvert_exporter": "python",
   "pygments_lexer": "ipython3",
   "version": "3.6.4"
  }
 },
 "nbformat": 4,
 "nbformat_minor": 2
}
