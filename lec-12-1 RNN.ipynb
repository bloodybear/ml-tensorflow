{
 "cells": [
  {
   "cell_type": "markdown",
   "metadata": {},
   "source": [
    "Sequence data\n",
    "* 이전 data 가 다음 data 해석에 영향을 미침\n",
    "* NN, CNN 으로는 불가\n",
    "\n",
    "RNN\n",
    "* $h_t=f_W(h_{t-1}, x_t)$\n",
    "* $x_t$ : input\n",
    "* $h_{t-1}$ : old state\n",
    "\n",
    "(Vanilla) RNN\n",
    "* 기본적인 RNN\n",
    "* h, x 각각 weight\n",
    "* $h_t = tanh(W_{hh}h_{t-1} + W_{xh}x_t)$\n",
    "* $y_t = W_{hy}h_t$\n",
    "\n",
    "RNN Applications\n",
    "* Language modeling\n",
    "* Speech recognition\n",
    "* Machine translation\n",
    "* Conversation\n",
    "* Image/Video Captioning\n",
    "\n",
    "RNN flexiblity\n",
    "* one to one\n",
    "* ont to many\n",
    "* many to one\n",
    "* many to many\n",
    "\n",
    "Advanced models\n",
    "* LSTM : Long Short Term Memory\n",
    "* GRU"
   ]
  },
  {
   "cell_type": "markdown",
   "metadata": {},
   "source": []
  }
 ],
 "metadata": {
  "kernelspec": {
   "display_name": "Python 3",
   "language": "python",
   "name": "python3"
  },
  "language_info": {
   "codemirror_mode": {
    "name": "ipython",
    "version": 3
   },
   "file_extension": ".py",
   "mimetype": "text/x-python",
   "name": "python",
   "nbconvert_exporter": "python",
   "pygments_lexer": "ipython3",
   "version": "3.6.4"
  }
 },
 "nbformat": 4,
 "nbformat_minor": 2
}
