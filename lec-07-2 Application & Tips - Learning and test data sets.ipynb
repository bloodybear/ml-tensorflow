{
 "cells": [
  {
   "cell_type": "markdown",
   "metadata": {},
   "source": [
    "ML model 이 얼마나 잘 동작하는지 확인하는 방법?\n",
    "* Training set 으로 evaluation\n",
    " * 족보로 공부하고 시험보는 격\n",
    "* Training and test sets\n",
    " * Training set 으로만 learning 하고 Test set 으로 Validate\n",
    " * Training set : 교과서\n",
    " * Test set : 시험 문제\n",
    "* Validation set\n",
    " * Training set 에서 다시 Valication set 을 나눠서 learning rate 와 lambda 가 적절한지 Validate\n",
    " * Validation set : 모의 고사"
   ]
  },
  {
   "cell_type": "markdown",
   "metadata": {},
   "source": [
    "Online learning\n",
    "* 100만개 Data 있을 경우?\n",
    " * 10만개씩 learning\n",
    " * 기존 학습한 것을 기억하고 있다가 Data 가 더 생길 때 마다 추가 학습"
   ]
  },
  {
   "cell_type": "markdown",
   "metadata": {},
   "source": [
    "MNIST Dataset\n",
    "* 손글씨 숫자 0~9 가 흑백으로 저장된 이미지\n",
    "* Training image/label, Test image/label 로 구성"
   ]
  },
  {
   "cell_type": "markdown",
   "metadata": {},
   "source": [
    "Accuracy\n",
    "* Test set 으로 측정"
   ]
  },
  {
   "cell_type": "code",
   "execution_count": null,
   "metadata": {},
   "outputs": [],
   "source": []
  }
 ],
 "metadata": {
  "kernelspec": {
   "display_name": "Python 3",
   "language": "python",
   "name": "python3"
  },
  "language_info": {
   "codemirror_mode": {
    "name": "ipython",
    "version": 3
   },
   "file_extension": ".py",
   "mimetype": "text/x-python",
   "name": "python",
   "nbconvert_exporter": "python",
   "pygments_lexer": "ipython3",
   "version": "3.6.4"
  }
 },
 "nbformat": 4,
 "nbformat_minor": 2
}
