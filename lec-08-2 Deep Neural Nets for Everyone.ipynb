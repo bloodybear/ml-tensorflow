{
 "cells": [
  {
   "cell_type": "markdown",
   "metadata": {},
   "source": [
    "CIFAR\n",
    "* NN 연구에 계속 지원\n",
    "\n",
    "Breakthrough (2006, 2007 by Hinton and Bengio)\n",
    "* 초기값이 중요\n",
    "* Deep Learning\n",
    "\n",
    "ImageNet\n",
    "* Image 인식 대회\n",
    "* 2010, 2011 - Error rate = 28, 26.2% -> 2012 - 15.3% (Alex net)\n",
    "* 2015 - 3.x% (Less than human error)"
   ]
  },
  {
   "cell_type": "code",
   "execution_count": null,
   "metadata": {},
   "outputs": [],
   "source": []
  }
 ],
 "metadata": {
  "kernelspec": {
   "display_name": "Python 3",
   "language": "python",
   "name": "python3"
  },
  "language_info": {
   "codemirror_mode": {
    "name": "ipython",
    "version": 3
   },
   "file_extension": ".py",
   "mimetype": "text/x-python",
   "name": "python",
   "nbconvert_exporter": "python",
   "pygments_lexer": "ipython3",
   "version": "3.6.4"
  }
 },
 "nbformat": 4,
 "nbformat_minor": 2
}
