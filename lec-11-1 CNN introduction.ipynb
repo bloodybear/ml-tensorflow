{
 "cells": [
  {
   "cell_type": "markdown",
   "metadata": {},
   "source": [
    "CNN\n",
    "* 입력을 여러개로 나눠서 입력\n",
    "* CONV -> RELU -> CONV -> RELU -> POOL -> ...\n",
    "\n",
    "고양이 실험\n",
    "* 그림을 볼 때 Neuron 들이 동시에 다 활성화되지 않음\n",
    "\n",
    "32 x 32 x 3 image ( 3 은 RGB )\n",
    "* 이미지 일부분만 처리 (filter = w) : 5 x 5 x 3 => one number\n",
    "* 모든 영역에 filter 적용\n",
    "* 7x7 input, 3x3 filter, stride : 1 => 5x5 output\n",
    "* 7x7 input, 3x3 filter, stride : 2 => 3x3 output\n",
    "\n",
    "Output size\n",
    "* (N - F) / stride + 1\n",
    "* (7 - 3) / 1 + 1 = 5\n",
    "\n",
    "이미지가 작아지는 문제 -> zero pad border\n",
    "* 값이 0 인 border 추가해서 input 과 동일한 이미지 크기를 만든다\n",
    "\n",
    "Swiping the entire image\n",
    "* filter1, 2, ... 여러 종류의 filter 를 사용 => activation maps\n",
    "\n",
    "Convolution layers"
   ]
  }
 ],
 "metadata": {
  "kernelspec": {
   "display_name": "Python 3",
   "language": "python",
   "name": "python3"
  },
  "language_info": {
   "codemirror_mode": {
    "name": "ipython",
    "version": 3
   },
   "file_extension": ".py",
   "mimetype": "text/x-python",
   "name": "python",
   "nbconvert_exporter": "python",
   "pygments_lexer": "ipython3",
   "version": "3.6.4"
  }
 },
 "nbformat": 4,
 "nbformat_minor": 2
}
