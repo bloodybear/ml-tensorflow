{
 "cells": [
  {
   "cell_type": "markdown",
   "metadata": {},
   "source": [
    "Staging Bucket\n",
    "* source code 올라가는 곳\n",
    "\n",
    "ML Console\n",
    "* Jobs\n",
    " * Training 시킨 Job 목록\n",
    " * Log 확인\n",
    " \n",
    "Input File\n",
    "* 어디 올려두고 불러와야 하나\n",
    " * GS : Google Cloud Storage ( gs://... )\n",
    " * tf API 에서 GS path 만 지정해주면 OK\n",
    " \n",
    "-- option\n",
    "* 내가 작성한 source 로 넘기는 Parameter\n",
    "* ex. -- --input_dir= ...\n",
    "\n",
    "Saver\n",
    "* session 그대로 저장\n",
    "* tf.train.Saver()\n",
    "* saver.save(...)\n",
    "\n",
    "Google Cloud ML\n",
    "* Serverless 환경\n",
    "* Pricing : Basic Tier = 0.49/hour\n",
    "* Check your bills!!\n",
    "\n",
    "Next\n",
    "* Cloud ML deploy : 직접 Service\n",
    "* Hyper-parameter tuning : variation 정해놓고 가장 좋은 결과 고르기\n",
    "* Distributed training tasks : 분산환경에서 Training 시키기"
   ]
  },
  {
   "cell_type": "code",
   "execution_count": null,
   "metadata": {},
   "outputs": [],
   "source": []
  }
 ],
 "metadata": {
  "kernelspec": {
   "display_name": "Python 3",
   "language": "python",
   "name": "python3"
  },
  "language_info": {
   "codemirror_mode": {
    "name": "ipython",
    "version": 3
   },
   "file_extension": ".py",
   "mimetype": "text/x-python",
   "name": "python",
   "nbconvert_exporter": "python",
   "pygments_lexer": "ipython3",
   "version": "3.6.4"
  }
 },
 "nbformat": 4,
 "nbformat_minor": 2
}
