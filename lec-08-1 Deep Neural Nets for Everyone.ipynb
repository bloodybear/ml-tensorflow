{
 "cells": [
  {
   "cell_type": "markdown",
   "metadata": {},
   "source": [
    "Activation functions\n",
    "* Biological neuron 의 동작을 Simulation\n",
    "* $\\sum_{i} w_ix_i+b$\n",
    "\n",
    "False Promises (1958)\n",
    "* embryo 만든 Dr.Frank\n",
    "* write, reproduce itself, conscious\n",
    "\n",
    "AND/OR problem : linearly separable?\n",
    "* AND/OR are separable\n",
    "* XOR isn't separable\n",
    "\n",
    "Perceptrons (1969 by Marvin Minsky)\n",
    "* XOR 풀려면 MLP 필요 (Multi Layer Perceptrons = Multi Layer Neural Nets)\n",
    "* But no way to train MLP\n",
    "* 다들 포기\n",
    "\n",
    "Backpropagation (1974, 82 by Paul Werbos, 1986 by Hinton)\n",
    "* 예측값의 오차를 거꾸로 학습\n",
    "Convolutional Neural Networks\n",
    "* 부분, 부분을 잘라서 학습하고 나중에 합친다\n",
    "* AlphaGo 도 사용\n",
    "\n",
    "A BIG problem\n",
    "* Backpropagation 이 10여개 이상 Layer 에서는 Layer 를 거치며 전달되지 않음\n",
    "* SVM, RandomForest 같은 Algorithm 이 오히려 성능이 좋음"
   ]
  },
  {
   "cell_type": "code",
   "execution_count": null,
   "metadata": {},
   "outputs": [],
   "source": []
  }
 ],
 "metadata": {
  "kernelspec": {
   "display_name": "Python 3",
   "language": "python",
   "name": "python3"
  },
  "language_info": {
   "codemirror_mode": {
    "name": "ipython",
    "version": 3
   },
   "file_extension": ".py",
   "mimetype": "text/x-python",
   "name": "python",
   "nbconvert_exporter": "python",
   "pygments_lexer": "ipython3",
   "version": "3.6.4"
  }
 },
 "nbformat": 4,
 "nbformat_minor": 2
}
