{
 "cells": [
  {
   "cell_type": "markdown",
   "metadata": {},
   "source": [
    "# AWS g2 and p2\n",
    "* p2 instance 새롭게 생김 (2017.01)\n",
    "* g2 보다 빨라짐\n",
    "\n",
    "# On-Demand\n",
    "* p2.xlarge : 0.9 per Hour\n",
    "* 비싸 ㅠㅜ\n",
    "\n",
    "# Spot Instance\n",
    "* p2.xlarge 0.24 per Hour\n",
    "* added when bid > market\n",
    "* AWS 에서 수거해갈 수 있어 ㅠㅜ\n",
    "\n",
    "# Request spot instance\n",
    "* AMI 미리 만들어 놓고 활용하자\n",
    "* instance 생성이 on-demand 보다 느림\n",
    "\n",
    "# Work with screen\n",
    "* 가상의 screen 에서 작업. connection 이 끊어져도 학습은 계속 진행\n",
    " 1. screen 명령 뒤 training 시작\n",
    " 2. ctrl+a,d 로 빠져나오기\n",
    " 3. 다시 접속 시 screen -r\n",
    "* 작업 종료시 메일 보내기\n",
    " * python train.py; echo \"Done\" | mail -s \"Finished\" xxxxxxx@gmail.com\n",
    "\n",
    "# Spot Instance + EBS Volume\n",
    "* Spot Instance 없어져도 EBS Volume 유지하기\n",
    "* Spot Instance 신청할 때 설정할 수 있음\n",
    "* EBS : Elastic Block Storage\n",
    "\n",
    "# AMI\n",
    "* Create Image 로 만들 수 있음\n",
    "* tensorflow 설치된 ami 공개한 사람도 많으니 찾아볼 수 있음\n",
    "\n",
    "# Shutdown\n",
    "* 작업이 끝나면 바로 종료하자\n",
    "* python train.py; sudo shutdown now"
   ]
  },
  {
   "cell_type": "code",
   "execution_count": null,
   "metadata": {},
   "outputs": [],
   "source": []
  }
 ],
 "metadata": {
  "kernelspec": {
   "display_name": "Python 3",
   "language": "python",
   "name": "python3"
  },
  "language_info": {
   "codemirror_mode": {
    "name": "ipython",
    "version": 3
   },
   "file_extension": ".py",
   "mimetype": "text/x-python",
   "name": "python",
   "nbconvert_exporter": "python",
   "pygments_lexer": "ipython3",
   "version": "3.6.4"
  }
 },
 "nbformat": 4,
 "nbformat_minor": 2
}
