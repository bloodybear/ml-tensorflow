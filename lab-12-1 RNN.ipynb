{
 "cells": [
  {
   "cell_type": "markdown",
   "metadata": {},
   "source": [
    "# RNN in TensorFlow\n",
    "cell = tf.contrib.rnn.BasicRNNCel(num_units=hidden_size)\n",
    "* num_units : 출력 사이즈\n",
    "\n",
    "outputs, _states = tf.nn.dynamic_rnn(cell, x_data, dtype=tf.float32)\n",
    "* output 과 state 두 가지 리턴\n",
    "* state 직접 쓸 일은 별로. 주로 output 사용\n",
    "\n",
    "cell = tf.contrib.rnn.BasicLSTMCell(num_units=hidden_size)\n",
    "* cell 만드는 부분 분리했기 때문에 cell 만 쉽게 교체가능"
   ]
  },
  {
   "cell_type": "markdown",
   "metadata": {},
   "source": [
    "# One node 4 (input-dim) in 2 (hidden_size)\n",
    "one hot encoding\n",
    "* h = [1, 0, 0, 0]\n",
    "* e = [0, 1, 0, 0]\n",
    "* l = [0, 0, 1, 0]\n",
    "* o = [0, 0, 0, 1]\n",
    "* shape = (1,1,4)\n",
    "\n",
    "hidden_size 설계자 맘대로..\n",
    "```\n",
    "hidden_sixer = 2\n",
    "cell = tf.contrib.rnn.BasicLSTMCell(num_units=hidden_size)\n",
    "\n",
    "x_data = np.array([[[1,0,0,0]]], dtype=np.float32)\n",
    "outputs, _states = tf.nn.dynamic_rnn(cell, x_data, dtype=tf.float32)\n",
    "```"
   ]
  },
  {
   "cell_type": "markdown",
   "metadata": {},
   "source": [
    "# Unfolding to n sequence\n",
    "\n",
    "sequence_length\n",
    "* 입력데이터 개수\n",
    "* 5개 라면 shape=(1,5,4)\n",
    "\n",
    "```\n",
    "h = [1,0,0,0]\n",
    "e = [0,1,0,0]\n",
    "...\n",
    "\n",
    "x_data = np.array([[h,e,l,l,o]], dtype=np.float32)\n",
    "```"
   ]
  },
  {
   "cell_type": "markdown",
   "metadata": {},
   "source": [
    "# Batching input\n",
    "\n",
    "Hidden_size = 2\n",
    "Sequence_length = 5\n",
    "batch_size = 3\n",
    "* shape=(3,5,2)\n",
    "* batch_sixe, sequence_length, hidden_size\n",
    "\n",
    "input_data\n",
    "* shape=(3,5,4)"
   ]
  },
  {
   "cell_type": "code",
   "execution_count": null,
   "metadata": {},
   "outputs": [],
   "source": []
  }
 ],
 "metadata": {
  "kernelspec": {
   "display_name": "Python 3",
   "language": "python",
   "name": "python3"
  },
  "language_info": {
   "codemirror_mode": {
    "name": "ipython",
    "version": 3
   },
   "file_extension": ".py",
   "mimetype": "text/x-python",
   "name": "python",
   "nbconvert_exporter": "python",
   "pygments_lexer": "ipython3",
   "version": "3.6.4"
  }
 },
 "nbformat": 4,
 "nbformat_minor": 2
}
