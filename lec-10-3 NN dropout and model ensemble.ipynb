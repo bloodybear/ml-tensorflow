{
 "cells": [
  {
   "cell_type": "markdown",
   "metadata": {},
   "source": [
    "Am I overfitting?\n",
    "* Training dataset 은 accuracy 높으나 Test dataset 은 accuracy 낮음\n",
    "\n",
    "Solution of overfitting\n",
    "* More training data\n",
    "* Reduce the number of features (별로 필요없어..)\n",
    "* Regularization : cost + $\\lambda\\sum{W^2}$\n",
    "\n",
    "Dropout\n",
    "* Random 하게 node 를 죽임\n",
    "* ex. cat score => ear, tail, furry 등 나눠서 학습\n",
    "* 학습하는 동안만 dropout 해야 함\n",
    "* ex. dropout_rate = TRAIN: 0.5, EVALUATION: 1.0\n",
    "\n",
    "Ensemble?\n",
    "* 각각 학습시킨 Model 을 합치기\n",
    "* 여러명의 전문가에게 물어보는 것과 비슷"
   ]
  },
  {
   "cell_type": "code",
   "execution_count": null,
   "metadata": {},
   "outputs": [],
   "source": []
  }
 ],
 "metadata": {
  "kernelspec": {
   "display_name": "Python 3",
   "language": "python",
   "name": "python3"
  },
  "language_info": {
   "codemirror_mode": {
    "name": "ipython",
    "version": 3
   },
   "file_extension": ".py",
   "mimetype": "text/x-python",
   "name": "python",
   "nbconvert_exporter": "python",
   "pygments_lexer": "ipython3",
   "version": "3.6.4"
  }
 },
 "nbformat": 4,
 "nbformat_minor": 2
}
